{
 "cells": [
  {
   "cell_type": "code",
   "execution_count": 1,
   "id": "2a1c65d6",
   "metadata": {},
   "outputs": [],
   "source": [
    "import os\n",
    "import pandas as pd\n",
    "\n",
    "from statsmodels.stats.outliers_influence import variance_inflation_factor\n",
    "from statsmodels.tools.tools import add_constant"
   ]
  },
  {
   "cell_type": "code",
   "execution_count": 2,
   "id": "ef3a60b9",
   "metadata": {},
   "outputs": [],
   "source": [
    "base = \"/home/george/code/Fitness/metadata/linear_regression\"\n",
    "\n",
    "df = pd.read_parquet(\"/home/george/code/Fitness/metadata/linear_regression/02-08-Dec-2019-daily-binary-mon.parquet\")\n",
    "df = df.fillna(0)\n",
    "df = df.set_index([\"caid\"])\n",
    "df = df.drop(columns = [\"Fitness and Recreational Sports Centers\", \"true_state\", \"day\"])"
   ]
  },
  {
   "cell_type": "code",
   "execution_count": 3,
   "id": "9d22d5a7",
   "metadata": {},
   "outputs": [
    {
     "name": "stdout",
     "output_type": "stream",
     "text": [
      "const                                                         3.578879\n",
      "Hardware Stores                                               1.005189\n",
      "All Other General Merchandise Stores                          1.022057\n",
      "Full-Service Restaurants                                      1.036892\n",
      "Supermarkets and Other Grocery (except Convenience) Stores    1.017329\n",
      "Limited-Service Restaurants                                   1.018819\n",
      "Pet and Pet Supplies Stores                                   1.002205\n",
      "Nature Parks and Other Similar Institutions                   1.034654\n",
      "Religious Organizations                                       1.012466\n",
      "Gasoline Stations with Convenience Stores                     1.008703\n",
      "Snack and Nonalcoholic Beverage Bars                          1.009686\n",
      "Used Merchandise Stores                                       1.001898\n",
      "Convenience Stores                                            1.001535\n",
      "Sporting Goods Stores                                         1.001797\n",
      "Colleges, Universities, and Professional Schools              1.021602\n",
      "Pharmacies and Drug Stores                                    1.004529\n",
      "Hotels (except Casino Hotels) and Motels                      1.011227\n",
      "Department Stores                                             1.004702\n",
      "Commercial Banking                                            1.001805\n",
      "Automotive Parts and Accessories Stores                       1.003182\n",
      "dtype: float64\n"
     ]
    }
   ],
   "source": [
    "X = add_constant(df)\n",
    "print(pd.Series([variance_inflation_factor(X.values, i) for i in range(X.shape[1])], index=X.columns))"
   ]
  },
  {
   "cell_type": "code",
   "execution_count": null,
   "id": "9ae9f6c5",
   "metadata": {},
   "outputs": [],
   "source": []
  },
  {
   "cell_type": "code",
   "execution_count": 1,
   "id": "7af595cb",
   "metadata": {},
   "outputs": [],
   "source": [
    "import statsmodels.api as sm\n",
    "from collections import defaultdict\n",
    "from tqdm import tqdm\n",
    "from sklearn.model_selection import cross_val_score\n",
    "from sklearn.model_selection import train_test_split\n",
    "from sklearn.base import BaseEstimator, RegressorMixin\n",
    "from sklearn.model_selection import StratifiedKFold"
   ]
  },
  {
   "cell_type": "code",
   "execution_count": 2,
   "id": "5b486487",
   "metadata": {},
   "outputs": [],
   "source": [
    "class SMWrapper(BaseEstimator, RegressorMixin):\n",
    "    \"\"\" A universal sklearn-style wrapper for statsmodels regressors \"\"\"\n",
    "    def __init__(self, model_class, fit_intercept=True):\n",
    "        self.model_class = model_class\n",
    "        self.fit_intercept = fit_intercept\n",
    "    def fit(self, X, y):\n",
    "        if self.fit_intercept:\n",
    "            X = sm.add_constant(X)\n",
    "        self.model_ = self.model_class(y, X)\n",
    "        self.results_ = self.model_.fit()\n",
    "        return self\n",
    "    def predict(self, X):\n",
    "        if self.fit_intercept:\n",
    "            X = sm.add_constant(X)\n",
    "        return self.results_.predict(X)\n",
    "\n",
    "\n",
    "    def summary(self):\n",
    "        print(self.results_.summary() )\n"
   ]
  },
  {
   "cell_type": "code",
   "execution_count": 3,
   "id": "f5caa391",
   "metadata": {},
   "outputs": [],
   "source": [
    "base = \"/home/george/code/Fitness/metadata/linear_regression\"\n",
    "files = os.listdir(base)\n",
    "files = [os.path.join(base, file) for file in files]\n",
    "\n",
    "file_0 = pd.read_parquet(\"/home/george/code/Fitness/metadata/linear_regression/07-13-Oct-2019-daily-binary-mon.parquet\")\n",
    "file_1 = pd.read_parquet(\"/home/george/code/Fitness/metadata/linear_regression/07-13-Oct-2019-daily-binary-tue.parquet\")"
   ]
  },
  {
   "cell_type": "code",
   "execution_count": 6,
   "id": "e50fb9a0",
   "metadata": {},
   "outputs": [],
   "source": [
    "df = pd.concat([file_0, file_1])\n",
    "df = df.fillna(0)\n",
    "df = df.set_index([\"caid\"])\n",
    "df = pd.get_dummies(df, columns=['day', 'true_state'], drop_first=True)"
   ]
  },
  {
   "cell_type": "code",
   "execution_count": 7,
   "id": "83273563",
   "metadata": {},
   "outputs": [],
   "source": [
    "X = df.loc[:, df.columns != \"Fitness and Recreational Sports Centers\"]\n",
    "Y = df['Fitness and Recreational Sports Centers']\n",
    "X = sm.add_constant(X)"
   ]
  },
  {
   "cell_type": "code",
   "execution_count": 10,
   "id": "b6249370",
   "metadata": {},
   "outputs": [],
   "source": [
    "from sklearn.metrics import make_scorer, roc_auc_score\n",
    "from sklearn.linear_model import LinearRegression"
   ]
  },
  {
   "cell_type": "code",
   "execution_count": 12,
   "id": "0892e5a9",
   "metadata": {},
   "outputs": [
    {
     "name": "stderr",
     "output_type": "stream",
     "text": [
      "/home/george/anaconda3/lib/python3.11/site-packages/sklearn/metrics/_scorer.py:548: FutureWarning: The `needs_threshold` and `needs_proba` parameter are deprecated in version 1.4 and will be removed in 1.6. You can either let `response_method` be `None` or set it to `predict` to preserve the same behaviour.\n",
      "  warnings.warn(\n"
     ]
    }
   ],
   "source": [
    "auc_scorer = make_scorer(roc_auc_score, needs_proba=False)\n",
    "skf = StratifiedKFold(n_splits=5, shuffle=True, random_state=1)\n",
    "auc_scores = cross_val_score(LinearRegression(), X.astype('float32'), Y.astype('float32'), cv=skf, scoring=auc_scorer)"
   ]
  },
  {
   "cell_type": "code",
   "execution_count": 13,
   "id": "96466bc1",
   "metadata": {},
   "outputs": [
    {
     "data": {
      "text/plain": [
       "array([0.702355  , 0.70275228, 0.70303648, 0.70332259, 0.70265893])"
      ]
     },
     "execution_count": 13,
     "metadata": {},
     "output_type": "execute_result"
    }
   ],
   "source": [
    "auc_scores"
   ]
  },
  {
   "cell_type": "code",
   "execution_count": null,
   "id": "6eec1018",
   "metadata": {},
   "outputs": [],
   "source": []
  },
  {
   "cell_type": "code",
   "execution_count": null,
   "id": "a3b83c75",
   "metadata": {},
   "outputs": [],
   "source": []
  }
 ],
 "metadata": {
  "kernelspec": {
   "display_name": "Python 3 (ipykernel)",
   "language": "python",
   "name": "python3"
  },
  "language_info": {
   "codemirror_mode": {
    "name": "ipython",
    "version": 3
   },
   "file_extension": ".py",
   "mimetype": "text/x-python",
   "name": "python",
   "nbconvert_exporter": "python",
   "pygments_lexer": "ipython3",
   "version": "3.11.5"
  }
 },
 "nbformat": 4,
 "nbformat_minor": 5
}
