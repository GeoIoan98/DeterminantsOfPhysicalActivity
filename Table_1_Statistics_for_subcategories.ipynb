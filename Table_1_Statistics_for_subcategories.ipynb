{
 "cells": [
  {
   "cell_type": "code",
   "execution_count": 1,
   "id": "4be81d02",
   "metadata": {},
   "outputs": [],
   "source": [
    "import os\n",
    "import pandas as pd\n",
    "from collections import Counter"
   ]
  },
  {
   "cell_type": "code",
   "execution_count": 2,
   "id": "3fc8d10c",
   "metadata": {},
   "outputs": [],
   "source": [
    "# Reading from local_dataset, which splits days based on the local time of users instead of the universal UTC\n",
    "base_folder = \"/home/george/data/Veraset/Visits/local_dataset\""
   ]
  },
  {
   "cell_type": "code",
   "execution_count": 3,
   "id": "505e26ac",
   "metadata": {},
   "outputs": [
    {
     "name": "stdout",
     "output_type": "stream",
     "text": [
      "Total users:  18644818\n"
     ]
    }
   ],
   "source": [
    "year = \"2019\"\n",
    "month = \"oct\"\n",
    "day = \"07\"\n",
    "df = pd.read_parquet(os.path.join(base_folder, f\"{year}/{month}/{day}.parquet\"))\n",
    "print(\"Total users: \", df[\"caid\"].nunique())\n",
    "df = df.dropna(subset=[\"sub_category\"]) # Remove visits to home and work\n",
    "counts = Counter(df[\"sub_category\"]).most_common(3)"
   ]
  },
  {
   "cell_type": "code",
   "execution_count": 4,
   "id": "f1a91f52",
   "metadata": {},
   "outputs": [
    {
     "name": "stdout",
     "output_type": "stream",
     "text": [
      "Full-Service Restaurants\n",
      "Visits:  3479657\n",
      "Visitors:  2697295\n",
      "Median Visit Time:  31.0\n",
      "Limited-Service Restaurants\n",
      "Visits:  1942840\n",
      "Visitors:  1645506\n",
      "Median Visit Time:  12.0\n",
      "Fitness and Recreational Sports Centers\n",
      "Visits:  1524812\n",
      "Visitors:  1284867\n",
      "Median Visit Time:  44.0\n"
     ]
    }
   ],
   "source": [
    "for sub_category, visits in counts:\n",
    "    print(sub_category)\n",
    "    print(\"Visits: \", visits)\n",
    "    temp_df = df[df[\"sub_category\"] == sub_category]\n",
    "    visitors = temp_df[\"caid\"].nunique()\n",
    "    print(\"Visitors: \", visitors)\n",
    "    median_time = temp_df[\"minimum_dwell\"].median()\n",
    "    print(\"Median Visit Time: \", median_time)"
   ]
  },
  {
   "cell_type": "code",
   "execution_count": 5,
   "id": "6cfe2131",
   "metadata": {},
   "outputs": [
    {
     "name": "stdout",
     "output_type": "stream",
     "text": [
      "Total users:  17737402\n"
     ]
    }
   ],
   "source": [
    "year = \"2019\"\n",
    "month = \"dec\"\n",
    "day = \"05\"\n",
    "df = pd.read_parquet(os.path.join(base_folder, f\"{year}/{month}/{day}.parquet\"))\n",
    "print(\"Total users: \", df[\"caid\"].nunique())\n",
    "df = df.dropna(subset=[\"sub_category\"]) # Remove visits to home and work\n",
    "counts = Counter(df[\"sub_category\"]).most_common(3)"
   ]
  },
  {
   "cell_type": "code",
   "execution_count": 6,
   "id": "d93ca298",
   "metadata": {},
   "outputs": [
    {
     "name": "stdout",
     "output_type": "stream",
     "text": [
      "Full-Service Restaurants\n",
      "Visits:  3984960\n",
      "Visitors:  3016637\n",
      "Median Visit Time:  36.0\n",
      "Limited-Service Restaurants\n",
      "Visits:  2438376\n",
      "Visitors:  2036696\n",
      "Median Visit Time:  12.0\n",
      "All Other General Merchandise Stores\n",
      "Visits:  1660269\n",
      "Visitors:  1403844\n",
      "Median Visit Time:  20.0\n"
     ]
    }
   ],
   "source": [
    "for sub_category, visits in counts:\n",
    "    print(sub_category)\n",
    "    print(\"Visits: \", visits)\n",
    "    temp_df = df[df[\"sub_category\"] == sub_category]\n",
    "    visitors = temp_df[\"caid\"].nunique()\n",
    "    print(\"Visitors: \", visitors)\n",
    "    median_time = temp_df[\"minimum_dwell\"].median()\n",
    "    print(\"Median Visit Time: \", median_time)"
   ]
  },
  {
   "cell_type": "code",
   "execution_count": 7,
   "id": "220a2318",
   "metadata": {},
   "outputs": [
    {
     "name": "stdout",
     "output_type": "stream",
     "text": [
      "Total users:  20162495\n"
     ]
    }
   ],
   "source": [
    "year = \"2020\"\n",
    "month = \"feb\"\n",
    "day = \"24\"\n",
    "df = pd.read_parquet(os.path.join(base_folder, f\"{year}/{month}/{day}.parquet\"))\n",
    "print(\"Total users: \", df[\"caid\"].nunique())\n",
    "df = df.dropna(subset=[\"sub_category\"]) # Remove visits to home and work\n",
    "counts = Counter(df[\"sub_category\"]).most_common(3)"
   ]
  },
  {
   "cell_type": "code",
   "execution_count": 8,
   "id": "c12d9600",
   "metadata": {},
   "outputs": [
    {
     "name": "stdout",
     "output_type": "stream",
     "text": [
      "Full-Service Restaurants\n",
      "Visits:  3644729\n",
      "Visitors:  2820750\n",
      "Median Visit Time:  34.0\n",
      "Limited-Service Restaurants\n",
      "Visits:  2335340\n",
      "Visitors:  1956438\n",
      "Median Visit Time:  13.0\n",
      "Fitness and Recreational Sports Centers\n",
      "Visits:  1613587\n",
      "Visitors:  1350410\n",
      "Median Visit Time:  47.0\n"
     ]
    }
   ],
   "source": [
    "for sub_category, visits in counts:\n",
    "    print(sub_category)\n",
    "    print(\"Visits: \", visits)\n",
    "    temp_df = df[df[\"sub_category\"] == sub_category]\n",
    "    visitors = temp_df[\"caid\"].nunique()\n",
    "    print(\"Visitors: \", visitors)\n",
    "    median_time = temp_df[\"minimum_dwell\"].median()\n",
    "    print(\"Median Visit Time: \", median_time)"
   ]
  },
  {
   "cell_type": "code",
   "execution_count": null,
   "id": "f267452c",
   "metadata": {},
   "outputs": [],
   "source": []
  }
 ],
 "metadata": {
  "kernelspec": {
   "display_name": "Python 3 (ipykernel)",
   "language": "python",
   "name": "python3"
  },
  "language_info": {
   "codemirror_mode": {
    "name": "ipython",
    "version": 3
   },
   "file_extension": ".py",
   "mimetype": "text/x-python",
   "name": "python",
   "nbconvert_exporter": "python",
   "pygments_lexer": "ipython3",
   "version": "3.11.5"
  }
 },
 "nbformat": 4,
 "nbformat_minor": 5
}
